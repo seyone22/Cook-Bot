{
 "cells": [
  {
   "cell_type": "code",
   "id": "initial_id",
   "metadata": {
    "collapsed": true,
    "jupyter": {
     "is_executing": true
    },
    "ExecuteTime": {
     "end_time": "2025-08-27T03:42:38.524196100Z",
     "start_time": "2025-08-27T03:41:56.076573Z"
    }
   },
   "source": [
    "# %% [markdown]\n",
    "# # Qwen3-4B CPU Fridge Chatbot Test (Windows, llama.cpp CLI)\n",
    "#\n",
    "# This notebook demonstrates running a local Qwen3-4B 4-bit model via the llama.cpp executable and a sample pantry prompt.\n",
    "\n",
    "# %% [code]\n",
    "import subprocess\n",
    "import shlex\n",
    "\n",
    "# %% [markdown]\n",
    "# ## 1. Configure paths\n",
    "# Update these paths to match your system\n",
    "\n",
    "llama_exe = r\"D:\\Cook-Bot\\src\\llama-b6294-bin-win-cpu-x64\\llama-cli.exe\"  # path to llama.cpp executable (from llama-b6294-bin-win-cpu-x64.zip)\n",
    "model_file = r\"D:\\Cook-Bot\\src\\models\\qwen\\Qwen3-4B-Q5_K_M.gguf\"  # path to GGUF model\n",
    "\n",
    "# %% [markdown]\n",
    "# ## 2. Define a sample fridge / pantry prompt\n",
    "# You can add more items or a larger pantry\n",
    "\n",
    "prompt = \"\"\"\n",
    "You are an English-only cooking assistant.\n",
    "The user has the following pantry:\n",
    "- eggs\n",
    "- spinach\n",
    "- cumin\n",
    "- turmeric\n",
    "- tomatoes\n",
    "- rice\n",
    "\n",
    "User: What can I cook tonight?\n",
    "Assistant:\n",
    "\"\"\"\n",
    "\n",
    "# %% [markdown]\n",
    "# ## 3. Build command\n",
    "# - `-m` → model path\n",
    "# - `-p` → prompt\n",
    "# - `-n` → max tokens to generate\n",
    "# - `--temp` → creativity / temperature\n",
    "# Adjust flags as needed\n",
    "\n",
    "cmd = f'\"{llama_exe}\" -m \"{model_file}\" -p \"{prompt}\" -n 200 --temp 0.7'\n",
    "\n",
    "# %% [markdown]\n",
    "# ## 4. Run llama.cpp via subprocess\n",
    "\n",
    "result = subprocess.run(shlex.split(cmd), capture_output=True, text=True)\n",
    "\n",
    "# %% [markdown]\n",
    "# ## 5. Print response\n",
    "\n",
    "print(result.stdout)\n",
    "\n",
    "# %% [markdown]\n",
    "# ## 6. Next Steps\n",
    "# - To simulate chat history, append last 3–5 messages to the prompt\n",
    "# - To manage a large pantry, selectively include only relevant items (spices always included)\n",
    "# - For CRUD commands, you can have the model output JSON instructions like:\n",
    "#   ```json\n",
    "#   {\"action\":\"add\",\"ingredient\":\"milk\"}\n",
    "#   ```\n",
    "#   Then update your local pantry database accordingly.\n"
   ],
   "outputs": [],
   "execution_count": null
  },
  {
   "metadata": {},
   "cell_type": "code",
   "outputs": [],
   "execution_count": null,
   "source": "\"D:\\Cook-Bot\\src\\llama-b6294-bin-win-cpu-x64\\llama-cli.exe\" -m \"D:\\Cook-Bot\\src\\models\\qwen\\Qwen3-4B-Q5_K_M.gguf\" -p \"...\" -n 200 --temp 0.7 > output.txt\n",
   "id": "70c1ee2be20055e2"
  }
 ],
 "metadata": {
  "kernelspec": {
   "display_name": "Python 3",
   "language": "python",
   "name": "python3"
  },
  "language_info": {
   "codemirror_mode": {
    "name": "ipython",
    "version": 2
   },
   "file_extension": ".py",
   "mimetype": "text/x-python",
   "name": "python",
   "nbconvert_exporter": "python",
   "pygments_lexer": "ipython2",
   "version": "2.7.6"
  }
 },
 "nbformat": 4,
 "nbformat_minor": 5
}
